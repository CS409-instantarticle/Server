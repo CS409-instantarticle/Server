{
 "cells": [
  {
   "cell_type": "code",
   "execution_count": 1,
   "metadata": {
    "collapsed": true
   },
   "outputs": [],
   "source": [
    "from flask import Flask, request, session, g, redirect, url_for, \\\n",
    "     abort, render_template, flash\n",
    "import sqlite3\n",
    "import pickle \n",
    "\n",
    "max_items = 30\n",
    "\n",
    "# Constants - Section ID\n",
    "sectionId_Politics = 100\n",
    "sectionId_Economy = 101\n",
    "sectionId_Society = 102\n",
    "sectionId_IT = 105\n",
    "sectionId_Life = 103\n",
    "sectionId_World = 104\n",
    "\n",
    "section = {\n",
    "    '정치' : sectionId_Politics,\n",
    "    '경제' : sectionId_Economy,\n",
    "    '사회' : sectionId_Society,\n",
    "    'IT'   : sectionId_IT,\n",
    "    '생활' : sectionId_Life,\n",
    "    '세계' : sectionId_World\n",
    "}\n",
    "\n",
    "dbName = {\n",
    "    '전체' : \"article_all\",\n",
    "    '정치' : \"article_politics\",\n",
    "    '경제' : \"article_economy\",\n",
    "    '사회' : \"article_society\",\n",
    "    'IT'   : \"article_it\",\n",
    "    '생활' : \"article_life\",\n",
    "    '세계' : \"article_world\"\n",
    "}"
   ]
  },
  {
   "cell_type": "code",
   "execution_count": 2,
   "metadata": {
    "collapsed": true
   },
   "outputs": [],
   "source": [
    "conn = sqlite3.connect(\"articles.db\", check_same_thread=False)\n",
    "c = conn.cursor()"
   ]
  },
  {
   "cell_type": "code",
   "execution_count": 3,
   "metadata": {
    "collapsed": true
   },
   "outputs": [],
   "source": [
    "def select_article(tablename, index, limit):\n",
    "    c.execute(\"select idx, itemid, json from %s where idx <= %s order by idx desc limit %s \" % (tablename, index, limit))\n",
    "    return [(row[0], row[1], pickle.loads(row[2])) for row in c]"
   ]
  },
  {
   "cell_type": "code",
   "execution_count": null,
   "metadata": {
    "collapsed": true
   },
   "outputs": [],
   "source": [
    "app = Flask(__name__)\n",
    "\n",
    "\n",
    "# 베이스 디렉토리\n",
    "@app.route('/')\n",
    "def index():\n",
    "    return \"Hello, world!\"\n",
    "\n",
    "\n",
    "@app.route(\"/Article/<index>\")\n",
    "def article(index):\n",
    "    select_article(dbName[section], index, 1)\n",
    "    return str(s)\n",
    "\n",
    "\n",
    "\n",
    "@app.route(\"/ArticleList/<index>\")\n",
    "def articleList(index):\n",
    "    index = int(index)\n",
    "    li = select_article('article_all', index, max_items)\n",
    "    res = list()\n",
    "    for i in li:\n",
    "        s = eval(i[2])\n",
    "        s['ArticleMainIndex'] = i[0]\n",
    "        res.append(s)\n",
    "    return str(res)\n",
    "\n",
    "\n",
    "\n",
    "@app.route(\"/ArticleSection/<section>/<index>\")\n",
    "def articleSection(section, index):\n",
    "    li = select_article(dbName[section], index, max_items)\n",
    "    res = list()\n",
    "    for i in li:\n",
    "        s = eval(i[2])\n",
    "        s['ArticleMainIndex'] = i[0]\n",
    "        res.append(s)\n",
    "    return str(res)\n",
    "    "
   ]
  },
  {
   "cell_type": "code",
   "execution_count": null,
   "metadata": {},
   "outputs": [
    {
     "name": "stderr",
     "output_type": "stream",
     "text": [
      " * Running on http://143.248.183.138:1234/ (Press CTRL+C to quit)\n",
      "143.248.177.223 - - [28/May/2017 05:01:05] \"GET /ArticleList/1 HTTP/1.1\" 200 -\n",
      "143.248.177.223 - - [28/May/2017 05:01:13] \"GET /ArticleList/50 HTTP/1.1\" 200 -\n",
      "143.248.177.223 - - [28/May/2017 05:01:35] \"GET /ArticleList/20 HTTP/1.1\" 200 -\n",
      "143.248.177.223 - - [28/May/2017 05:01:46] \"GET /ArticleList/2500 HTTP/1.1\" 200 -\n",
      "143.248.177.223 - - [28/May/2017 05:04:36] \"GET /ArticleList/2500 HTTP/1.1\" 200 -\n",
      "143.248.177.223 - - [28/May/2017 05:04:43] \"GET /ArticleList/2500 HTTP/1.1\" 200 -\n",
      "143.248.177.223 - - [28/May/2017 05:04:56] \"GET /ArticleList/200 HTTP/1.1\" 200 -\n",
      "143.248.177.223 - - [28/May/2017 05:05:08] \"GET /ArticleList/1500 HTTP/1.1\" 200 -\n",
      "66.102.6.159 - - [28/May/2017 05:08:16] \"GET / HTTP/1.1\" 200 -\n",
      "66.102.6.159 - - [28/May/2017 05:08:16] \"GET / HTTP/1.1\" 200 -\n",
      "66.102.6.129 - - [28/May/2017 05:08:16] \"GET /favicon.ico HTTP/1.1\" 404 -\n"
     ]
    }
   ],
   "source": [
    "app.run(\"143.248.183.138\", port=1234)\n"
   ]
  },
  {
   "cell_type": "code",
   "execution_count": null,
   "metadata": {
    "collapsed": true
   },
   "outputs": [],
   "source": []
  },
  {
   "cell_type": "code",
   "execution_count": null,
   "metadata": {
    "collapsed": true
   },
   "outputs": [],
   "source": []
  }
 ],
 "metadata": {
  "kernelspec": {
   "display_name": "Python 3",
   "language": "python",
   "name": "python3"
  },
  "language_info": {
   "codemirror_mode": {
    "name": "ipython",
    "version": 3
   },
   "file_extension": ".py",
   "mimetype": "text/x-python",
   "name": "python",
   "nbconvert_exporter": "python",
   "pygments_lexer": "ipython3",
   "version": "3.5.3"
  }
 },
 "nbformat": 4,
 "nbformat_minor": 2
}
