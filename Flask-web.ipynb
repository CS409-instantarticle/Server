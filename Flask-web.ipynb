{
 "cells": [
  {
   "cell_type": "code",
   "execution_count": null,
   "metadata": {
    "collapsed": true
   },
   "outputs": [],
   "source": [
    "from flask import Flask, request, session, g, redirect, url_for, \\\n",
    "     abort, render_template, flash\n",
    "import sqlite3\n",
    "import pickle \n",
    "\n",
    "max_items = 30\n",
    "\n",
    "# Constants - Section ID\n",
    "sectionId_Politics = 100\n",
    "sectionId_Economy = 101\n",
    "sectionId_Society = 102\n",
    "sectionId_IT = 105\n",
    "sectionId_Life = 103\n",
    "sectionId_World = 104\n",
    "\n",
    "section = {\n",
    "    '정치' : sectionId_Politics,\n",
    "    '경제' : sectionId_Economy,\n",
    "    '사회' : sectionId_Society,\n",
    "    'IT'   : sectionId_IT,\n",
    "    '생활' : sectionId_Life,\n",
    "    '세계' : sectionId_World\n",
    "}\n",
    "\n",
    "dbName = {\n",
    "    '전체' : \"article_all\",\n",
    "    '정치' : \"article_politics\",\n",
    "    '경제' : \"article_economy\",\n",
    "    '사회' : \"article_society\",\n",
    "    'IT'   : \"article_it\",\n",
    "    '생활' : \"article_life\",\n",
    "    '세계' : \"article_world\"\n",
    "}\n"
   ]
  },
  {
   "cell_type": "code",
   "execution_count": 2,
   "metadata": {
    "collapsed": true
   },
   "outputs": [],
   "source": [
    "conn_all = sqlite3.connect(\"article_all.db\")\n",
    "conn_politics = sqlite3.connect(\"article_politics.db\")\n",
    "conn_economy = sqlite3.connect(\"article_economy.db\")\n",
    "conn_society = sqlite3.connect(\"article_society.db\")\n",
    "conn_it = sqlite3.connect(\"article_it.db\")\n",
    "conn_life = sqlite3.connect(\"article_life.db\")\n",
    "conn_world = sqlite3.connect(\"article_world.db\")\n",
    "\n",
    "c_all = conn_all.cursor()\n",
    "c_politics = conn_politics.cursor()\n",
    "c_economy = conn_economy.cursor()\n",
    "c_society = conn_society.cursor()\n",
    "c_it = conn_it.cursor()\n",
    "c_life = conn_life.cursor()\n",
    "c_world = conn_world.cursor()\n",
    "\n",
    "conn = {\n",
    "    \"article_all\" : conn_all,\n",
    "    \"article_politics\" : conn_politics,\n",
    "    \"article_economy\" : conn_economy,\n",
    "    \"article_society\" : conn_society,\n",
    "    \"article_it\" : conn_it,\n",
    "    \"article_life\" : conn_life,\n",
    "    \"article_world\" : conn_world\n",
    "}\n",
    "\n",
    "c = {\n",
    "    \"article_all\" : c_all,\n",
    "    \"article_politics\" : c_politics,\n",
    "    \"article_economy\" : c_economy,\n",
    "    \"article_society\" : c_society,\n",
    "    \"article_it\" : c_it,\n",
    "    \"article_life\" : c_life,\n",
    "    \"article_world\" : c_world\n",
    "}"
   ]
  },
  {
   "cell_type": "code",
   "execution_count": 3,
   "metadata": {
    "collapsed": true
   },
   "outputs": [],
   "source": [
    "def select_article(tablename, index, limit):\n",
    "    cur = c[tablename]\n",
    "    cur.execute(\"select idx, itemid, json from %s where idx <= %s order by idx desc limit %s \" % (tablename, index, limit))\n",
    "    return [(row[0], row[1], pickle.loads(row[2])) for row in cur]\n",
    "\n"
   ]
  },
  {
   "cell_type": "code",
   "execution_count": 4,
   "metadata": {
    "collapsed": true
   },
   "outputs": [],
   "source": [
    "app = Flask(__name__)\n",
    "\n",
    "\n",
    "# 베이스 디렉토리\n",
    "@app.route('/')\n",
    "def index():\n",
    "    return \"Hello, world!\"\n",
    "\n",
    "\n",
    "@app.route(\"/Article/<index>\")\n",
    "def article(index):\n",
    "    select_article(dbName[section], index, 1)\n",
    "    return str(s)\n",
    "\n",
    "\n",
    "\n",
    "@app.route(\"/ArticleList/<index>\")\n",
    "def articleList(index):\n",
    "    index = int(index)\n",
    "    li = select_article('article_all', index, max_items)\n",
    "    res = list()\n",
    "    for i in li:\n",
    "        s = eval(i[2])\n",
    "        s['ArticleMainIndex'] = i[0]\n",
    "        res.append(s)\n",
    "    return str(res)\n",
    "\n",
    "\n",
    "\n",
    "@app.route(\"/ArticleSection/<section>/<index>\")\n",
    "def articleSection(section, index):\n",
    "    if section == \"홈\":\n",
    "        section = \"전체\"\n",
    "    li = select_article(dbName[section], index, max_items)\n",
    "    res = list()\n",
    "    for i in li:\n",
    "        s = eval(i[2])\n",
    "        s['ArticleMainIndex'] = i[0]\n",
    "        res.append(s)\n",
    "    return str(res)\n",
    "    "
   ]
  },
  {
   "cell_type": "code",
   "execution_count": null,
   "metadata": {},
   "outputs": [
    {
     "name": "stderr",
     "output_type": "stream",
     "text": [
      " * Running on http://kaist.tk:1234/ (Press CTRL+C to quit)\n",
      "143.248.198.42 - - [02/Jun/2017 18:59:36] \"GET /ArticleSection/%EC%A0%95%EC%B9%98/2000 HTTP/1.1\" 200 -\n"
     ]
    }
   ],
   "source": [
    "app.run(\"kaist.tk\", port=1234)\n"
   ]
  },
  {
   "cell_type": "code",
   "execution_count": null,
   "metadata": {
    "collapsed": true
   },
   "outputs": [],
   "source": []
  },
  {
   "cell_type": "code",
   "execution_count": null,
   "metadata": {
    "collapsed": true
   },
   "outputs": [],
   "source": []
  }
 ],
 "metadata": {
  "kernelspec": {
   "display_name": "Python 3",
   "language": "python",
   "name": "python3"
  },
  "language_info": {
   "codemirror_mode": {
    "name": "ipython",
    "version": 3
   },
   "file_extension": ".py",
   "mimetype": "text/x-python",
   "name": "python",
   "nbconvert_exporter": "python",
   "pygments_lexer": "ipython3",
   "version": "3.5.3"
  }
 },
 "nbformat": 4,
 "nbformat_minor": 2
}
