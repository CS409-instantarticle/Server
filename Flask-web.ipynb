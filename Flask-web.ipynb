{
 "cells": [
  {
   "cell_type": "code",
   "execution_count": 1,
   "metadata": {
    "collapsed": true
   },
   "outputs": [],
   "source": [
    "from flask import Flask, request, session, g, redirect, url_for, \\\n",
    "     abort, render_template, flash\n",
    "import sqlite3\n",
    "import pickle \n",
    "\n",
    "max_items = 30\n",
    "\n",
    "# Constants - Section ID\n",
    "sectionId_Politics = 100\n",
    "sectionId_Economy = 101\n",
    "sectionId_Society = 102\n",
    "sectionId_IT = 105\n",
    "sectionId_Life = 103\n",
    "sectionId_World = 104\n",
    "\n",
    "section = {\n",
    "    '정치' : sectionId_Politics,\n",
    "    '경제' : sectionId_Economy,\n",
    "    '사회' : sectionId_Society,\n",
    "    'IT'   : sectionId_IT,\n",
    "    '생활' : sectionId_Life,\n",
    "    '세계' : sectionId_World\n",
    "}\n",
    "\n",
    "dbName = {\n",
    "    '전체' : \"article_all\",\n",
    "    '정치' : \"article_politics\",\n",
    "    '경제' : \"article_economy\",\n",
    "    '사회' : \"article_society\",\n",
    "    'IT'   : \"article_it\",\n",
    "    '생활' : \"article_life\",\n",
    "    '세계' : \"article_world\"\n",
    "}"
   ]
  },
  {
   "cell_type": "code",
   "execution_count": 2,
   "metadata": {
    "collapsed": true
   },
   "outputs": [],
   "source": [
    "conn = sqlite3.connect(\"articles.db\", check_same_thread=False)\n",
    "c = conn.cursor()"
   ]
  },
  {
   "cell_type": "code",
   "execution_count": 3,
   "metadata": {
    "collapsed": true
   },
   "outputs": [],
   "source": [
    "def select_article(tablename, index, limit):\n",
    "    c.execute(\"select idx, itemid, json from %s where idx <= %s order by idx desc limit %s \" % (tablename, index, limit))\n",
    "    return [(row[0], row[1], pickle.loads(row[2])) for row in c]"
   ]
  },
  {
   "cell_type": "code",
   "execution_count": 4,
   "metadata": {
    "collapsed": true
   },
   "outputs": [],
   "source": [
    "app = Flask(__name__)\n",
    "\n",
    "\n",
    "# 베이스 디렉토리\n",
    "@app.route('/')\n",
    "def index():\n",
    "    return \"Hello, world!\"\n",
    "\n",
    "\n",
    "@app.route(\"/Article/<index>\")\n",
    "def article(index):\n",
    "    select_article(dbName[section], index, 1)\n",
    "    return str(s)\n",
    "\n",
    "\n",
    "\n",
    "@app.route(\"/ArticleList/<index>\")\n",
    "def articleList(index):\n",
    "    index = int(index)\n",
    "    li = select_article('article_all', index, max_items)\n",
    "    res = list()\n",
    "    for i in li:\n",
    "        s = eval(i[2])\n",
    "        s['ArticleMainIndex'] = i[0]\n",
    "        res.append(s)\n",
    "    return str(res)\n",
    "\n",
    "\n",
    "\n",
    "@app.route(\"/ArticleSection/<section>/<index>\")\n",
    "def articleSection(section, index):\n",
    "    li = select_article(dbName[section], index, max_items)\n",
    "    res = list()\n",
    "    for i in li:\n",
    "        s = eval(i[2])\n",
    "        s['ArticleMainIndex'] = i[0]\n",
    "        res.append(s)\n",
    "    return str(res)\n",
    "    "
   ]
  },
  {
   "cell_type": "code",
   "execution_count": null,
   "metadata": {},
   "outputs": [
    {
     "name": "stderr",
     "output_type": "stream",
     "text": [
      " * Running on http://kaist.tk:1234/ (Press CTRL+C to quit)\n",
      "143.248.183.136 - - [28/May/2017 12:56:27] \"GET /ArticleSection/%EA%B2%BD%EC%A0%9C/2000 HTTP/1.1\" 200 -\n",
      "143.248.183.136 - - [28/May/2017 12:56:29] \"GET /ArticleSection/%EA%B2%BD%EC%A0%9C/2000 HTTP/1.1\" 200 -\n",
      "143.248.183.136 - - [28/May/2017 12:56:33] \"GET /ArticleSection/%EA%B2%BD%EC%A0%9C/2000 HTTP/1.1\" 200 -\n",
      "143.248.183.136 - - [28/May/2017 12:56:33] \"GET /ArticleSection/%EA%B2%BD%EC%A0%9C/2000 HTTP/1.1\" 200 -\n",
      "143.248.183.136 - - [28/May/2017 12:56:35] \"GET /ArticleSection/%EA%B2%BD%EC%A0%9C/2000 HTTP/1.1\" 200 -\n",
      "143.248.183.136 - - [28/May/2017 12:56:36] \"GET /ArticleSection/%EA%B2%BD%EC%A0%9C/2000 HTTP/1.1\" 200 -\n",
      "143.248.183.136 - - [28/May/2017 12:56:38] \"GET /ArticleSection/%EA%B2%BD%EC%A0%9C/2000 HTTP/1.1\" 200 -\n",
      "[2017-05-28 12:56:43,911] ERROR in app: Exception on /ArticleSection/경제/2000 [GET]\n",
      "Traceback (most recent call last):\n",
      "  File \"/usr/local/lib/python3.5/dist-packages/flask/app.py\", line 1982, in wsgi_app\n",
      "    response = self.full_dispatch_request()\n",
      "  File \"/usr/local/lib/python3.5/dist-packages/flask/app.py\", line 1614, in full_dispatch_request\n",
      "    rv = self.handle_user_exception(e)\n",
      "  File \"/usr/local/lib/python3.5/dist-packages/flask/app.py\", line 1517, in handle_user_exception\n",
      "    reraise(exc_type, exc_value, tb)\n",
      "  File \"/usr/local/lib/python3.5/dist-packages/flask/_compat.py\", line 33, in reraise\n",
      "    raise value\n",
      "  File \"/usr/local/lib/python3.5/dist-packages/flask/app.py\", line 1612, in full_dispatch_request\n",
      "    rv = self.dispatch_request()\n",
      "  File \"/usr/local/lib/python3.5/dist-packages/flask/app.py\", line 1598, in dispatch_request\n",
      "    return self.view_functions[rule.endpoint](**req.view_args)\n",
      "  File \"<ipython-input-4-f7f62643fbfa>\", line 32, in articleSection\n",
      "    li = select_article(dbName[section], index, max_items)\n",
      "  File \"<ipython-input-3-9e0988fc5aac>\", line 2, in select_article\n",
      "    c.execute(\"select idx, itemid, json from %s where idx <= %s order by idx desc limit %s \" % (tablename, index, limit))\n",
      "sqlite3.OperationalError: database is locked\n",
      "143.248.183.136 - - [28/May/2017 12:56:43] \"GET /ArticleSection/%EA%B2%BD%EC%A0%9C/2000 HTTP/1.1\" 500 -\n",
      "143.248.183.136 - - [28/May/2017 12:56:44] \"GET /ArticleSection/%EA%B2%BD%EC%A0%9C/2000 HTTP/1.1\" 200 -\n",
      "143.248.183.136 - - [28/May/2017 12:56:44] \"GET /ArticleSection/%EA%B2%BD%EC%A0%9C/2000 HTTP/1.1\" 200 -\n"
     ]
    }
   ],
   "source": [
    "app.run(\"kaist.tk\", port=1234)\n"
   ]
  },
  {
   "cell_type": "code",
   "execution_count": null,
   "metadata": {
    "collapsed": true
   },
   "outputs": [],
   "source": []
  },
  {
   "cell_type": "code",
   "execution_count": null,
   "metadata": {
    "collapsed": true
   },
   "outputs": [],
   "source": []
  }
 ],
 "metadata": {
  "kernelspec": {
   "display_name": "Python 3",
   "language": "python",
   "name": "python3"
  },
  "language_info": {
   "codemirror_mode": {
    "name": "ipython",
    "version": 3
   },
   "file_extension": ".py",
   "mimetype": "text/x-python",
   "name": "python",
   "nbconvert_exporter": "python",
   "pygments_lexer": "ipython3",
   "version": "3.5.3"
  }
 },
 "nbformat": 4,
 "nbformat_minor": 2
}
