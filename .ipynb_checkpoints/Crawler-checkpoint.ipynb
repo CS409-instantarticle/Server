{
 "metadata": {
  "name": "",
  "signature": "sha256:3ea3ff6d84ff48af4ae3b8fb1f642bfab46ca7a5458bfe0069784316b136e18a"
 },
 "nbformat": 3,
 "nbformat_minor": 0,
 "worksheets": [
  {
   "cells": [
    {
     "cell_type": "code",
     "collapsed": false,
     "input": [
      "from dep import *\n",
      "from request_list import *\n",
      "import sys\n",
      "\n",
      "from os import listdir\n",
      "from os.path import isfile, join "
     ],
     "language": "python",
     "metadata": {},
     "outputs": [],
     "prompt_number": 42
    },
    {
     "cell_type": "code",
     "collapsed": false,
     "input": [
      "mypath = \"articles/\"\n",
      "\n",
      "articles = [f for f in listdir(mypath) if isfile(join(mypath, f))]\n",
      "articles_all = sorted(filter(lambda f: f[:2] == '20', articles))\n",
      "#print(articles_all)\n"
     ],
     "language": "python",
     "metadata": {},
     "outputs": [],
     "prompt_number": 63
    },
    {
     "cell_type": "code",
     "collapsed": false,
     "input": [
      "# article Key, Index ->> None\n",
      "def setArticleMainIndex(articleKey, index):\n",
      "    \n",
      "    with open(\"articles/\" + articleKey, \"r\") as f:\n",
      "        json = eval(f.read())\n",
      "        json[\"ArticleMainIndex\"] = index\n",
      "        \n",
      "    with open(mypath + articleKey, \"w\") as f:\n",
      "        f.write(str(json))\n",
      "    \n",
      "    return"
     ],
     "language": "python",
     "metadata": {},
     "outputs": [],
     "prompt_number": 44
    },
    {
     "cell_type": "code",
     "collapsed": false,
     "input": [
      "i = 0\n",
      "for articleKey in articles_all:\n",
      "    setArticleMainIndex(articleKey, i)\n",
      "    i += 1"
     ],
     "language": "python",
     "metadata": {},
     "outputs": [],
     "prompt_number": 45
    },
    {
     "cell_type": "code",
     "collapsed": false,
     "input": [
      "\n",
      "articles = [f for f in listdir(mypath) if isfile(join(mypath, f))]\n",
      "\n",
      "# \uc544\ub798\uc758 \ub9ac\uc2a4\ud2b8\ub4e4\uc740 articles\uc758 partition\uc774\ub2e4.\n",
      "articles_all = sorted(filter(lambda f: f[:2] == '20', articles))\n",
      "articles_politics = sorted(filter(lambda f: f[:2] == '\uc815\uce58', articles))\n",
      "articles_economics = sorted(filter(lambda f: f[:2] == '\uacbd\uc81c', articles))\n",
      "articles_social = sorted(filter(lambda f: f[:2] == '\uc0ac\ud68c', articles))\n",
      "articles_life = sorted(filter(lambda f: f[:2] == '\uc0dd\ud65c', articles))\n",
      "articles_world = sorted(filter(lambda f: f[:2] == '\uc138\uacc4', articles))\n",
      "articles_it = sorted(filter(lambda f: f[:2] == 'IT', articles))\n"
     ],
     "language": "python",
     "metadata": {},
     "outputs": [],
     "prompt_number": 51
    },
    {
     "cell_type": "code",
     "collapsed": false,
     "input": [
      "# \ub9c8\uc9c0\ub9c9 \uae30\uc0ac\uc758 \uc778\ub371\uc2a4 \ub9ac\ud134\n",
      "def get_lastIndex():\n",
      "    try:\n",
      "        last = eval(open(\"articles/\" + articles_all[-1], \"r\").read())[\"ArticleMainIndex\"]\n",
      "        return last\n",
      "    except:\n",
      "        last = -1\n",
      "    return last\n",
      "\n",
      "print(get_lastIndex())"
     ],
     "language": "python",
     "metadata": {},
     "outputs": [
      {
       "output_type": "stream",
       "stream": "stdout",
       "text": [
        "1755\n"
       ]
      }
     ],
     "prompt_number": 52
    },
    {
     "cell_type": "code",
     "collapsed": false,
     "input": [
      "\n",
      "def crawler(overwrite, maxrequest):\n",
      "    maxrequest = int(maxrequest)\n",
      "    flag = True\n",
      "    i = 0\n",
      "    new_articles = list()\n",
      "    index = get_lastIndex() + 1\n",
      "\n",
      "    while flag and (i < maxrequest):\n",
      "        \n",
      "        # 12\uac1c \ub2e8\uc704 \ucc98\ub9ac\n",
      "        for j in request_list(i):\n",
      "            if j.getName() in articles:\n",
      "                flag = False\n",
      "                break\n",
      "            else: \n",
      "                j.write()\n",
      "                new_articles.append(j.getName())\n",
      "        i += 1\n",
      "\n",
      "    print(\"Done\")\n",
      "    print(len(new_articles))\n",
      "    \n",
      "    \n",
      "    for articleKey in sorted(new_articles):\n",
      "        setArticleMainIndex(articleKey, index);\n",
      "        index += 1\n",
      "    \n",
      "'''\n",
      "if __name__ == \"__main__\":\n",
      "    l = sys.argv[1:]\n",
      "    print(l)\n",
      "    if len(l) == 3:\n",
      "        main(*l)\n",
      "    elif len(l) == 2:\n",
      "        main(l[0], 415)\n",
      "    else:\n",
      "        main(True, 415)\n",
      "'''"
     ],
     "language": "python",
     "metadata": {},
     "outputs": [
      {
       "metadata": {},
       "output_type": "pyout",
       "prompt_number": 56,
       "text": [
        "'\\nif __name__ == \"__main__\":\\n    l = sys.argv[1:]\\n    print(l)\\n    if len(l) == 3:\\n        main(*l)\\n    elif len(l) == 2:\\n        main(l[0], 415)\\n    else:\\n        main(True, 415)\\n'"
       ]
      }
     ],
     "prompt_number": 56
    },
    {
     "cell_type": "code",
     "collapsed": false,
     "input": [
      "crawler(False, 10)"
     ],
     "language": "python",
     "metadata": {},
     "outputs": [
      {
       "output_type": "stream",
       "stream": "stdout",
       "text": [
        "Done\n",
        "8\n"
       ]
      }
     ],
     "prompt_number": 57
    },
    {
     "cell_type": "code",
     "collapsed": false,
     "input": [
      "eval(open(\"articles/\" + articles_all[-1], \"r\").read())"
     ],
     "language": "python",
     "metadata": {},
     "outputs": [
      {
       "metadata": {},
       "output_type": "pyout",
       "prompt_number": 64,
       "text": [
        "{'ThumbnailImageURL': 'None',\n",
        " 'ArticleMainIndex': 1763,\n",
        " 'ArticleID': '0009280898',\n",
        " 'Press': '\uc5f0\ud569\ub274\uc2a4',\n",
        " 'SectionName': 'None',\n",
        " 'Contents': [{'ArticleType': 'text',\n",
        "   'content': \"\uc9d1\uad8c AKP \ud2b9\ubcc4\uc804\ub2f9\ub300\ud68c\uc11c \uc120\ucd9c\u2026'\ub300\ud1b5\ub839\uc5d0 \ub2f9\uc801 \ud5c8\uc6a9' \uac1c\ud5cc\uc73c\ub85c \uac00\ub2a5\ud574\uc838\",\n",
        "   'ArticleIndex': 0},\n",
        "  {'ArticleType': 'text',\n",
        "   'content': '\ub300\ud1b5\ub839 \ucde8\uc784\ud558\uba70 \ub5a0\ub09c \uc9c0 3\ub144\ub9cc\uc5d0 \ubcf5\uadc0\u2026\"\uad6d\uac00\ube44\uc0c1\uc0ac\ud0dc \uacc4\uc18d\ub420 \uac83\"',\n",
        "   'ArticleIndex': 1},\n",
        "  {'ArticleType': 'text',\n",
        "   'content': \"(\uc774\uc2a4\ud0c4\ubd88=\uc5f0\ud569\ub274\uc2a4) \ud558\ucc44\ub9bc \ud2b9\ud30c\uc6d0 = \ub808\uc81c\ud504 \ud0c0\uc774\uc774\ud504 \uc5d0\ub974\ub3c4\uc548 \ud130\ud0a4 \ub300\ud1b5\ub839\uc774 '\uc220\ud0c4 \ub300\ud1b5\ub839\uc81c' \uac1c\ud5cc\uc5d0 \uc131\uacf5\ud55c \uc9c0 \ud55c\ub2ec \uc5ec\ub9cc\uc5d0 \uc9d1\uad8c\ub2f9 \ub2f9\uc218\uc9c1\uc744 \ucc28\uc9c0\ud588\ub2e4.\",\n",
        "   'ArticleIndex': 2},\n",
        "  {'ArticleType': 'text',\n",
        "   'content': \"\ud130\ud0a4 \uc5ec\ub2f9 '\uc815\uc758\uac1c\ubc1c\ub2f9'(AKP)\uc740 21\uc77c \uc559\uce74\ub77c\uc5d0\uc11c \ud2b9\ubcc4\uc804\ub2f9\ub300\ud68c\ub97c \uc5f4\uc5b4 \uc5d0\ub974\ub3c4\uc548 \ub300\ud1b5\ub839\uc744 \ub2f9 \ub300\ud45c\ub85c \uc120\ucd9c\ud588\ub2e4.\",\n",
        "   'ArticleIndex': 3},\n",
        "  {'ArticleType': 'text',\n",
        "   'content': '\uc5d0\ub974\ub3c4\uc548 \ub300\ud1b5\ub839\uc740 2014\ub144 \ub300\ud1b5\ub839\uc5d0 \ucde8\uc784\ud558\uba74\uc11c \ub2f9\uc2dc \ud5cc\ubc95\uc5d0 \ub530\ub77c \ub2f9\uc801\uc744 \uc0c1\uc2e4\ud55c \ud6c4 \uc57d 3\ub144 \ub9cc\uc5d0 \ub2f9\uc218 \uc9c0\uc704\ub97c \ub418\ucc3e\uc558\ub2e4.',\n",
        "   'ArticleIndex': 4},\n",
        "  {'ArticleType': 'text',\n",
        "   'content': '\uc5d0\ub974\ub3c4\uc548 \ub300\ud1b5\ub839\uc740 \uc774\ub0a0 \ub2f9\ub300\ud45c\uc9c1\uc5d0 \uc624\ub974\uba70 \uad6d\uac00\ube44\uc0c1\uc0ac\ud0dc\uac00 \uacc4\uc18d\ub420 \uac83\uc774\ub77c\uace0 \ubc1d\ud614\ub2e4.',\n",
        "   'ArticleIndex': 5},\n",
        "  {'ArticleType': 'text',\n",
        "   'content': '\uadf8\ub294 \ub2f9\ub300\ud45c \uc218\ub77d \uc5f0\uc124\uc5d0\uc11c \"\uc791\ub144\uc5d0 \uad6d\uac00\uc804\ubcf5 \ubaa8\uc758\ub85c 249\uba85\uc774 \uc21c\uad6d\ud588\uace0 2\ucc9c193\uba85\uc774 \ub2e4\ucce4\ub2e4\"\uba74\uc11c \"\uc5b4\ub5bb\uac8c \uac10\ud788 \uad6d\uac00\ube44\uc0c1\uc0ac\ud0dc\ub97c \ud574\uc81c\ud558\ub77c \uc694\uad6c\ud560 \uc218 \uc788\ub290\ub0d0\"\uace0 \ub9d0\ud588\ub2e4.',\n",
        "   'ArticleIndex': 6},\n",
        "  {'ArticleType': 'text',\n",
        "   'content': '\uc9c0\ub09c\ub2ec \uc815\ub2f9\uc131 \ub17c\ub780 \uc18d\uc5d0 \uad6d\ubbfc\ud22c\ud45c\ub85c \uac1c\ud5cc\uc548\uc774 \uac00\uacb0\ub428\uc5d0 \ub530\ub77c \ud130\ud0a4\uc758 \uc815\uce58\uad8c\ub825\uad6c\uc870\uac00 \uc758\uc6d0\ub0b4\uac01\uc81c\uc5d0\uc11c \ubc14\ub00c\uace0 \ub300\ud1b5\ub839\uc774 \ub2f9\uc801\uc744 \uac00\uc9c8 \uc218 \uc788\uac8c \ub410\ub2e4.',\n",
        "   'ArticleIndex': 7},\n",
        "  {'ArticleType': 'text',\n",
        "   'content': '\uc5d0\ub974\ub3c4\uc548 \ub300\ud1b5\ub839\uc740 \uac1c\ud5cc \uad6d\ubbfc\ud22c\ud45c \uacb0\uacfc\uac00 \ud655\uc815\ub418\uc790\ub9c8\uc790 \uc9c0\ub09c\ub2ec 2\uc77c \ub2f9\uc801\uc744 \ud68c\ubcf5\ud588\uace0, \uc774\ub0a0 \ud2b9\ubcc4\uc804\ub2f9\ub300\ud68c\ub85c \ub2f9\ub300\ud45c\uc9c1\ub3c4 \ucc28\uc9c0\ud588\ub2e4.',\n",
        "   'ArticleIndex': 8},\n",
        "  {'ArticleType': 'text',\n",
        "   'content': '\uc5d0\ub974\ub3c4\uc548 \ub300\ud1b5\ub839\uc740 \uc9c0\ub09c\ub2ec \uac1c\ud5cc \uc131\uacf5\uc73c\ub85c \ud589\uc815\u00b7\uc785\ubc95\u00b7\uc0ac\ubc95 3\uad8c\uc5d0 \uac78\uccd0 \uac15\ub825\ud55c \uad8c\ud55c\uc744 \ud2c0\uc5b4\uc950\uace0 2030\ub144\ub300\uae4c\uc9c0 \uc7a5\uae30 \uc9d1\uad8c\ud560 \uc218 \uc788\ub294 \uae30\ubc18\uc744 \ub9c8\ub828\ud588\ub2e4.',\n",
        "   'ArticleIndex': 9},\n",
        "  {'ArticleType': 'text',\n",
        "   'content': '\ube44\ub0a0\ub9ac \uc774\uc744\ub4dc\ub984 \ucd1d\ub9ac\uac00 \uba85\ubaa9\uc0c1\uc758 \ub2f9\ub300\ud45c\ub97c \ub9e1\uc740 \ub3d9\uc548\uc5d0\ub3c4 \uc5d0\ub974\ub3c4\uc548 \ub300\ud1b5\ub839\uc774 \uc0ac\uc2e4\uc0c1 \ub2f9\uc744 \uc9c0\ubc30\ud588\uc73c\ub098 \uc774\ub0a0 \ub2f9\ub300\ud45c\ub85c \uc120\ucd9c\ub3fc \uba85\uc2e4\uc0c1\ubd80\ud55c \ub2f9\uc758 \ucd5c\uace0 \uc2e4\ub825\uc790\uc5d0 \ub4f1\uadf9\ud588\ub2e4.',\n",
        "   'ArticleIndex': 10},\n",
        "  {'ArticleType': 'text',\n",
        "   'content': 'AKP\ub294 \uc5d0\ub974\ub3c4\uc548 \ub300\ud1b5\ub839\uacfc \uc555\ub458\ub77c \uadc8 \uc804 \ub300\ud1b5\ub839\uc774 2001\ub144 \ucc3d\ub2f9\ud588\ub2e4.',\n",
        "   'ArticleIndex': 11},\n",
        "  {'ArticleType': 'text',\n",
        "   'content': '\uc911\ub3c4\uc6b0\ud30c \ub610\ub294 \uc6b0\ud30c\ub85c \ubd84\ub958\ub418\ub294 AKP\ub294 \ubcf4\uc218\uc8fc\uc758\uc640 \uc774\uc2ac\ub78c\uc8fc\uc758\ub97c \ub0b4\uac78\uace0 \ub300\uc911\uc8fc\uc758 \uc815\ucc45\uc744 \ud3bc\uccd0 \uc11c\ubbfc\uce35\uc5d0\uc11c \uad73\uac74\ud55c \uc9c0\uc9c0\uae30\ubc18\uc744 \uad6c\ucd95\ud588\ub2e4.',\n",
        "   'ArticleIndex': 12},\n",
        "  {'ArticleType': 'text',\n",
        "   'content': '\uc5d0\ub974\ub3c4\uc548\uc740 \uac15\ub825\ud55c \uce74\ub9ac\uc2a4\ub9c8\ub85c \ub2f9\uc744 \uc774\ub04c\uba70 2002\ub144 \uc774\ub798 \ubaa8\ub4e0 \ucd1d\uc120\uc5d0\uc11c \ub0b4\ub9ac \uc2b9\ub9ac\ud588\ub2e4.',\n",
        "   'ArticleIndex': 13},\n",
        "  {'ArticleType': 'text',\n",
        "   'content': '\uc5d0\ub974\ub3c4\uc548 \ub300\ud1b5\ub839\uc740 \uc9c0\ub09c 2\uc77c \ub2f9\uc801 \ud68c\ubcf5 \ud6c4 \"\ub098\ub294 \uc624\ub298 \ub0b4 \uc9d1, \ub0b4 \uc0ac\ub791, \ub0b4 \uc5f4\uc815\uc5d0 \ub3cc\uc544\uc654\ub2e4\"\uba70 \"(\ub3cc\uc544\uc624\ub824\ub294) \uac08\ub9dd\uc740 979\uc77c\ub9cc\uc5d0 \ub05d\ub0ac\ub2e4\"\uace0 \ub9d0\ud588\ub2e4.',\n",
        "   'ArticleIndex': 14},\n",
        "  {'ArticleType': 'text', 'content': 'tree@yna.co.kr', 'ArticleIndex': 15},\n",
        "  {'ArticleType': 'link',\n",
        "   'content': '\ucd5c\uc2e0 \uc720\ud589 \ud2b8\ub80c\ub4dc \ucd1d\uc9d1\uacb0 #\ud765(\ud074\ub9ad!)',\n",
        "   'url': 'http://hng.yonhapnews.co.kr/?did=1195s',\n",
        "   'ArticleIndex': 16}],\n",
        " 'ArticleDate': '2017-05-22 00:33',\n",
        " 'Video': 'False',\n",
        " 'Link': 'http://m.news.naver.com/read.nhn?oid=001&aid=0009280898',\n",
        " 'ArticleTitle': \"\uac70\uce68\uc5c6\ub294 \uc5d0\ub974\ub3c4\uc548\u2026'\uc220\ud0c4 \uac1c\ud5cc' \ud55c\ub2ec\ub9cc\uc5d0 \uc5ec\ub2f9 \ub2f9\uc218 \ub4f1\uadf9\"}"
       ]
      }
     ],
     "prompt_number": 64
    },
    {
     "cell_type": "code",
     "collapsed": false,
     "input": [],
     "language": "python",
     "metadata": {},
     "outputs": []
    }
   ],
   "metadata": {}
  }
 ]
}