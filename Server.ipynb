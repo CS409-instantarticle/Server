{
 "metadata": {
  "name": "",
  "signature": "sha256:260826ea64bafec60c4b0bc89589f7966ea7b18fbc76723502f6817481598ad3"
 },
 "nbformat": 3,
 "nbformat_minor": 0,
 "worksheets": [
  {
   "cells": [
    {
     "cell_type": "code",
     "collapsed": false,
     "input": [
      "import sqlite3\n",
      "from flask import Flask, request, session, g, redirect, url_for, \\\n",
      "     abort, render_template, flash\n",
      "from os import listdir\n",
      "from os.path import isfile, join "
     ],
     "language": "python",
     "metadata": {},
     "outputs": [],
     "prompt_number": 1
    },
    {
     "cell_type": "code",
     "collapsed": false,
     "input": [
      "mypath = \"articles/\"\n",
      "article_index = [f for f in listdir(mypath) if isfile(join(mypath, f)) and f[:2] == '20']\n",
      "article_index = sorted(article_index)"
     ],
     "language": "python",
     "metadata": {},
     "outputs": [],
     "prompt_number": 4
    },
    {
     "cell_type": "code",
     "collapsed": false,
     "input": [
      "len(article_index)"
     ],
     "language": "python",
     "metadata": {},
     "outputs": [
      {
       "metadata": {},
       "output_type": "pyout",
       "prompt_number": 5,
       "text": [
        "1764"
       ]
      }
     ],
     "prompt_number": 5
    },
    {
     "cell_type": "code",
     "collapsed": false,
     "input": [
      "app = Flask(__name__)\n",
      "\n",
      "\n",
      "# \ubca0\uc774\uc2a4 \ub514\ub809\ud1a0\ub9ac\n",
      "@app.route('/')\n",
      "def index():\n",
      "    return \"Hello, world!\"\n",
      "\n",
      "@app.route(\"/Article/<index>\")\n",
      "def article(index):\n",
      "    index = int(index)\n",
      "    s = eval(open(\"articles/\" + article_index[index], \"r\").read())\n",
      "    #s['ArticleMainIndex'] = index\n",
      "    return str(s)\n",
      "\n",
      "\n",
      "\n",
      "@app.route(\"/ArticleList/<index>\")\n",
      "def articleList(index):\n",
      "    index = int(index)\n",
      "    li = []\n",
      "    for i in range(30)[::-1]:\n",
      "        try:\n",
      "            arti = eval(article(index + i))\n",
      "            li.append(arti)\n",
      "        except IndexError:\n",
      "            break\n",
      "    return str(li)\n",
      "\n",
      "\n",
      "@app.route(\"/ArticleListBefore/<index>\")\n",
      "def articleListBefore(index):\n",
      "    index = int(index)\n",
      "    li = []\n",
      "    for i in range(30):\n",
      "        try:\n",
      "            arti = eval(article(index - i))\n",
      "            li.append(arti)\n",
      "        except IndexError:\n",
      "            break\n",
      "    return str(li)\n",
      "\n",
      "\n",
      "# \uac00\uc7a5 \ucd5c\uc2e0\uc758 \uae30\uc0ac \ub9ac\uc2a4\ud2b8 \ubc18\ud658\n",
      "@app.route(\"/RecentArticleList/\")\n",
      "def RecentArticleList():\n",
      "    return articleListBefore(len(article_index) - 1)\n",
      "\n",
      "\n",
      "@app.route(\"/ArticleSection/<section>/<index>\")\n",
      "def articleSection(section, index):\n",
      "    index = int(index)\n",
      "    li = []\n",
      "    i = 0\n",
      "    while len(li) < 30 or index + i > len(article_index):\n",
      "        try:\n",
      "            arti = eval(article(index + i))\n",
      "            if arti[\"SectionName\"] == section:\n",
      "                li.append(arti)\n",
      "        except IndexError:\n",
      "            return li\n",
      "        i += 1\n",
      "        \n",
      "    return str(li)\n",
      "\n",
      "\n",
      "'''\n",
      "@app.route(\"/ArticleBefore/<time>\")\n",
      "    # time : 201705171200 \uaf34(12\uc790\ub9ac)\n",
      "    #12:00 \uc774\uc804\uc758 \ucd5c\uc2e0 30\uac1c \ub9ac\uc2a4\ud2b8 \ub9ac\ud134\n",
      "    li = []\n",
      "    \n",
      "        \n",
      "        \n",
      "    \n",
      "    return \n",
      "\n",
      "@app.route(\"/ArticleAfter/<time>\")\n",
      "def articleafter(time):\n",
      "    #time : 201705171200 \uaf34(12\uc790\ub9ac)\n",
      "    # 12:00 \uc774\ud6c4\uc758 \ub9ac\uc2a4\ud2b8 \ub9ac\ud134\n",
      "    li = []\n",
      "    idx = 0\n",
      "    \n",
      "    return \"\"\n",
      "'''"
     ],
     "language": "python",
     "metadata": {},
     "outputs": [
      {
       "metadata": {},
       "output_type": "pyout",
       "prompt_number": 6,
       "text": [
        "'\\n@app.route(\"/ArticleBefore/<time>\")\\n    # time : 201705171200 \uaf34(12\uc790\ub9ac)\\n    #12:00 \uc774\uc804\uc758 \ucd5c\uc2e0 30\uac1c \ub9ac\uc2a4\ud2b8 \ub9ac\ud134\\n    li = []\\n    \\n        \\n        \\n    \\n    return \\n\\n@app.route(\"/ArticleAfter/<time>\")\\ndef articleafter(time):\\n    #time : 201705171200 \uaf34(12\uc790\ub9ac)\\n    # 12:00 \uc774\ud6c4\uc758 \ub9ac\uc2a4\ud2b8 \ub9ac\ud134\\n    li = []\\n    idx = 0\\n    \\n    return \"\"\\n'"
       ]
      }
     ],
     "prompt_number": 6
    },
    {
     "cell_type": "code",
     "collapsed": false,
     "input": [
      "app.run(\"0.0.0.0\", port=1234)"
     ],
     "language": "python",
     "metadata": {},
     "outputs": []
    },
    {
     "cell_type": "code",
     "collapsed": false,
     "input": [],
     "language": "python",
     "metadata": {},
     "outputs": []
    }
   ],
   "metadata": {}
  }
 ]
}