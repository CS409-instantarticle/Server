{
 "metadata": {
  "name": "",
  "signature": "sha256:190e377ceeea1d3d2a00debe0d078de8eb4898d8ec7580fec8b52e7457041c02"
 },
 "nbformat": 3,
 "nbformat_minor": 0,
 "worksheets": [
  {
   "cells": [
    {
     "cell_type": "code",
     "collapsed": false,
     "input": [
      "from dep import *\n",
      "from request_list import *\n",
      "import sys\n",
      "\n",
      "from os import listdir\n",
      "from os.path import isfile, join "
     ],
     "language": "python",
     "metadata": {},
     "outputs": [],
     "prompt_number": 65
    },
    {
     "cell_type": "code",
     "collapsed": false,
     "input": [
      "mypath = \"articles/\"\n",
      "\n",
      "articles = [f for f in listdir(mypath) if isfile(join(mypath, f))]\n",
      "articles_all = sorted(filter(lambda f: f[:2] == '20', articles))\n",
      "#print(articles_all)\n"
     ],
     "language": "python",
     "metadata": {},
     "outputs": [],
     "prompt_number": 66
    },
    {
     "cell_type": "code",
     "collapsed": false,
     "input": [
      "# article Key, Index ->> None\n",
      "def setArticleMainIndex(articleKey, index):\n",
      "    \n",
      "    with open(\"articles/\" + articleKey, \"r\") as f:\n",
      "        json = eval(f.read())\n",
      "        json[\"ArticleMainIndex\"] = index\n",
      "        \n",
      "    with open(mypath + articleKey, \"w\") as f:\n",
      "        f.write(str(json))\n",
      "    \n",
      "    return"
     ],
     "language": "python",
     "metadata": {},
     "outputs": [],
     "prompt_number": 67
    },
    {
     "cell_type": "code",
     "collapsed": false,
     "input": [
      "i = 0\n",
      "for articleKey in articles_all:\n",
      "    setArticleMainIndex(articleKey, i)\n",
      "    i += 1"
     ],
     "language": "python",
     "metadata": {},
     "outputs": [],
     "prompt_number": 68
    },
    {
     "cell_type": "code",
     "collapsed": false,
     "input": [
      "\n",
      "articles = [f for f in listdir(mypath) if isfile(join(mypath, f))]\n",
      "\n",
      "# \uc544\ub798\uc758 \ub9ac\uc2a4\ud2b8\ub4e4\uc740 articles\uc758 partition\uc774\ub2e4.\n",
      "articles_all = sorted(filter(lambda f: f[:2] == '20', articles))\n",
      "articles_politics = sorted(filter(lambda f: f[:2] == '\uc815\uce58', articles))\n",
      "articles_economics = sorted(filter(lambda f: f[:2] == '\uacbd\uc81c', articles))\n",
      "articles_social = sorted(filter(lambda f: f[:2] == '\uc0ac\ud68c', articles))\n",
      "articles_life = sorted(filter(lambda f: f[:2] == '\uc0dd\ud65c', articles))\n",
      "articles_world = sorted(filter(lambda f: f[:2] == '\uc138\uacc4', articles))\n",
      "articles_it = sorted(filter(lambda f: f[:2] == 'IT', articles))\n"
     ],
     "language": "python",
     "metadata": {},
     "outputs": [],
     "prompt_number": 69
    },
    {
     "cell_type": "code",
     "collapsed": false,
     "input": [
      "# \ub9c8\uc9c0\ub9c9 \uae30\uc0ac\uc758 \uc778\ub371\uc2a4 \ub9ac\ud134\n",
      "def get_lastIndex():\n",
      "    try:\n",
      "        last = eval(open(\"articles/\" + articles_all[-1], \"r\").read())[\"ArticleMainIndex\"]\n",
      "        return last\n",
      "    except:\n",
      "        last = -1\n",
      "    return last\n",
      "\n",
      "print(get_lastIndex())"
     ],
     "language": "python",
     "metadata": {},
     "outputs": [
      {
       "output_type": "stream",
       "stream": "stdout",
       "text": [
        "1741\n"
       ]
      }
     ],
     "prompt_number": 70
    },
    {
     "cell_type": "code",
     "collapsed": false,
     "input": [
      "\n",
      "def crawler(overwrite, maxrequest):\n",
      "    maxrequest = int(maxrequest)\n",
      "    flag = True\n",
      "    i = 0\n",
      "    new_articles = list()\n",
      "    index = get_lastIndex() + 1\n",
      "\n",
      "    while flag and (i < maxrequest):\n",
      "        \n",
      "        # 12\uac1c \ub2e8\uc704 \ucc98\ub9ac\n",
      "        for j in request_list(i):\n",
      "            if j.getName() in articles:\n",
      "                flag = False\n",
      "                break\n",
      "            else: \n",
      "                j.write()\n",
      "                new_articles.append(j.getName())\n",
      "        i += 1\n",
      "\n",
      "    print(\"Done\")\n",
      "    print(len(new_articles))\n",
      "    \n",
      "    \n",
      "    for articleKey in sorted(new_articles):\n",
      "        setArticleMainIndex(articleKey, index);\n",
      "        index += 1\n",
      "    \n",
      "'''\n",
      "if __name__ == \"__main__\":\n",
      "    l = sys.argv[1:]\n",
      "    print(l)\n",
      "    if len(l) == 3:\n",
      "        main(*l)\n",
      "    elif len(l) == 2:\n",
      "        main(l[0], 415)\n",
      "    else:\n",
      "        main(True, 415)\n",
      "'''"
     ],
     "language": "python",
     "metadata": {},
     "outputs": [
      {
       "metadata": {},
       "output_type": "pyout",
       "prompt_number": 71,
       "text": [
        "'\\nif __name__ == \"__main__\":\\n    l = sys.argv[1:]\\n    print(l)\\n    if len(l) == 3:\\n        main(*l)\\n    elif len(l) == 2:\\n        main(l[0], 415)\\n    else:\\n        main(True, 415)\\n'"
       ]
      }
     ],
     "prompt_number": 71
    },
    {
     "cell_type": "code",
     "collapsed": false,
     "input": [
      "crawler(False, 10)"
     ],
     "language": "python",
     "metadata": {},
     "outputs": [
      {
       "output_type": "stream",
       "stream": "stdout",
       "text": [
        "\uc815\uce58\n",
        "\uc0ac\ud68c"
       ]
      },
      {
       "output_type": "stream",
       "stream": "stdout",
       "text": [
        "\n",
        "\uc815\uce58"
       ]
      },
      {
       "output_type": "stream",
       "stream": "stdout",
       "text": [
        "\n",
        "\uc138\uacc4\n",
        "\uc815\uce58\n",
        "\uc815\uce58"
       ]
      },
      {
       "output_type": "stream",
       "stream": "stdout",
       "text": [
        "\n",
        "Done\n",
        "34\n"
       ]
      }
     ],
     "prompt_number": 72
    },
    {
     "cell_type": "code",
     "collapsed": false,
     "input": [
      "eval(open(\"articles/\" + articles_all[-1], \"r\").read())"
     ],
     "language": "python",
     "metadata": {},
     "outputs": [
      {
       "metadata": {},
       "output_type": "pyout",
       "prompt_number": 73,
       "text": [
        "{'ThumbnailImageURL': 'http://mimgnews1.naver.net/image/origin/032/2017/05/21/2789653.jpg',\n",
        " 'ArticleMainIndex': 1741,\n",
        " 'ArticleID': '0002789653',\n",
        " 'Press': '\uacbd\ud5a5\uc2e0\ubb38',\n",
        " 'SectionName': '\uc815\uce58',\n",
        " 'Contents': [{'ArticleType': 'text',\n",
        "   'content': 'SUB_TITLE_START',\n",
        "   'ArticleIndex': 0},\n",
        "  {'ArticleType': 'strapline', 'content': '\u318d\uac15\uacbd\ud654 \uc678\uad50\uc7a5\uad00 \ub0b4\uc815\uc790', 'ArticleIndex': 1},\n",
        "  {'ArticleType': 'strapline',\n",
        "   'content': '\u318d\ud55c\uad6d \uc5ec\uc131 \uc911 \uc720\uc5d4 \ucd5c\uace0\uc704\uc9c1\u202614\ub144 \ub9cc\uc5d0 \ube44\uace0\uc2dc \ucd9c\uc2e0 \ubc1c\ud0c1',\n",
        "   'ArticleIndex': 2},\n",
        "  {'ArticleType': 'text', 'content': 'SUB_TITLE_END', 'ArticleIndex': 3},\n",
        "  {'ArticleType': 'text', 'content': 'YHAP', 'ArticleIndex': 4},\n",
        "  {'tag': '\uac15\uacbd\ud654 \uc678\uad50\ubd80 \uc7a5\uad00 \ub0b4\uc815\uc790\uac00 2014\ub144 2\uc6d4 \uc720\uc5d4 \uc778\ub3c4\uc8fc\uc758\uc5c5\ubb34\uc870\uc815\uad6d \uc0ac\ubb34\ucc28\uc7a5\ubcf4 \uc2dc\uc808 \uc678\uad50\ubd80\uc5d0\uc11c \uae30\uc790\ud68c\uacac\uc744 \ud558\uace0 \uc788\ub2e4(\uc704 \uc0ac\uc9c4). \uac15 \ub0b4\uc815\uc790\uac00 1998\ub144 11\uc6d4 \uccad\uc640\ub300\uc5d0\uc11c \uc5f4\ub9b0 \uae40\ub300\uc911 \ub300\ud1b5\ub839\uacfc \ube4c \ud074\ub9b0\ud134 \ubbf8\uad6d \ub300\ud1b5\ub839\uc758 \ud55c\u00b7\ubbf8 \uc815\uc0c1\ud68c\ub2f4\uc5d0\uc11c \ud1b5\uc5ed\uc744 \ud558\uace0 \uc788\ub2e4.  \uc5f0\ud569\ub274\uc2a4',\n",
        "   'ArticleType': 'image',\n",
        "   'content': 'http://imgnews.naver.net/image/032/2017/05/21/0002789653_001_20170522001613512.jpg?type=w430',\n",
        "   'ArticleIndex': 5},\n",
        "  {'ArticleType': 'text', 'content': '//YHAP', 'ArticleIndex': 6},\n",
        "  {'ArticleType': 'text',\n",
        "   'content': '\ubb38\uc7ac\uc778 \uc815\ubd80\uac00 \uac15\uacbd\ud654 \uc720\uc5d4 \uc0ac\ubb34\ucd1d\uc7a5 \uc815\ucc45\ud2b9\ubcf4(62)\ub97c \uc678\uad50\ubd80 \uc7a5\uad00\uc73c\ub85c \uc120\ud0dd\ud55c \uac83\uc740 \u2018\ucc38\uc2e0\ud568\u2019\uc5d0 \uac00\uc7a5 \ud070 \uc758\ubbf8\ub97c \ub454 \uac83\uc73c\ub85c \ubcf4\uc778\ub2e4. \uac15 \uc7a5\uad00 \ub0b4\uc815\uc790\ub294 \uc778\uc0ac\uccad\ubb38\ud68c\ub97c \ud1b5\uacfc\ud560 \uacbd\uc6b0 \uccab \uc5ec\uc131 \uc678\uad50\ubd80 \uc7a5\uad00\uc778 \ub370\ub2e4 \uc724\uc601\uad00 \uc804 \uc7a5\uad00 \uc774\ud6c4 14\ub144 \ub9cc\uc5d0 \ucc98\uc74c\uc73c\ub85c \ube44(\u975e)\uc678\ubb34\uace0\uc2dc \ucd9c\uc2e0 \uc678\uad50\uc218\uc7a5\uc774 \ub418\ub294 \uae30\ub85d\ub3c4 \uc138\uc6b0\uac8c \ub41c\ub2e4.',\n",
        "   'ArticleIndex': 7},\n",
        "  {'ArticleType': 'text',\n",
        "   'content': '\ubb38 \ub300\ud1b5\ub839\uc740 21\uc77c \u201c\ube44\uc678\ubb34\uace0\uc2dc \ucd9c\uc2e0\uc758 \uc678\uad50\ubd80 \uccab \uc5ec\uc131 \uad6d\uc7a5\uacfc \ud55c\uad6d \uc5ec\uc131 \uc911 \uc720\uc5d4 \ucd5c\uace0\uc704\uc9c1\uc5d0 \uc784\uba85\ub418\ub294 \ub4f1 \uc678\uad50 \ubd84\uc57c\uc5d0\uc11c \uc6b0\ub9ac\ub098\ub77c \ucd5c\ucd08\u00b7\ucd5c\uace0 \uc5ec\uc131\uc774\ub780 \uc218\uc2dd\uc5b4\uac00 \ub530\ub77c\ub2e4\ub2cc \uc678\uad50 \uc804\ubb38\uac00\ub85c, \ub0b4\uac01 \uad6c\uc131\uc5d0\uc11c \uc131\ud3c9\ub4f1\uc774\ub780 \uad00\uc810\uc5d0\uc11c\ub3c4 \ud070 \uc758\ubbf8\uac00 \uc788\ub2e4\u201d\uace0 \ubc1d\ud614\ub2e4.',\n",
        "   'ArticleIndex': 8},\n",
        "  {'ArticleType': 'text',\n",
        "   'content': '\uac15 \ub0b4\uc815\uc790\ub294 \ub2e4\uc790\uc678\uad50\uc640 \uad6d\uc81c\uc778\uad8c \ubd84\uc57c\uc5d0\uc11c \uc624\ub7ab\ub3d9\uc548 \ud65c\uc57d\ud588\uc73c\uba70 \uc138\ub828\ub41c \uc601\uc5b4 \uc2e4\ub825\uacfc \ud0c1\uc6d4\ud55c \uad6d\uc81c\uac10\uac01\uc73c\ub85c \uad6d\uc81c\ubb34\ub300\uc5d0\uc11c \uc54c\ub824\uc84c\ub2e4. \uc774\ud654\uc5ec\uace0, \uc5f0\uc138\ub300 \uc815\uc678\uacfc\ub97c \uc878\uc5c5\ud55c \ub4a4 \ubbf8\uad6d \ub9e4\uc0ac\ucd94\uc138\uce20\ub300 \ub300\ud559\uc6d0\uc5d0\uc11c \ucee4\ubba4\ub2c8\ucf00\uc774\uc158 \ubc15\uc0ac \ud559\uc704\ub97c \ubc1b\uc558\ub2e4.',\n",
        "   'ArticleIndex': 9},\n",
        "  {'ArticleType': 'text',\n",
        "   'content': 'KBS \uc601\uc5b4\ubc29\uc1a1 PD \uacb8 \uc544\ub098\uc6b4\uc11c\ub85c \uc0ac\ud68c\uc0dd\ud65c\uc744 \uc2dc\uc791\ud574 \uc138\uc885\ub300 \uad50\uc218\ub97c \uac70\uccd0 1999\ub144 \ud64d\uc21c\uc601 \uc678\uad50\ud1b5\uc0c1\ubd80 \uc7a5\uad00 \ubcf4\uc88c\uad00\uc73c\ub85c \uc678\uad50\ubd80\uc640 \uc778\uc5f0\uc744 \ub9fa\uc5c8\ub2e4. 2005\ub144 \uad6d\uc81c\uae30\uad6c\uc815\ucc45\uad00(\ud604 \uad6d\uc81c\uae30\uad6c\uad6d\uc7a5)\uc5d0 \ubc1c\ud0c1\ub3fc \uc678\uad50\ubd80\uc5d0\uc11c \ub450 \ubc88\uc9f8, \ube44\uc678\uc2dc \ucd9c\uc2e0\uc73c\ub85c \uccab \uc5ec\uc131 \uad6d\uc7a5\uc774 \ub410\ub2e4. 2006\ub144 \uc774\ud6c4\uc5d4 \uc720\uc5d4 \uc778\uad8c\uace0\ub4f1\ud310\ubb34\uad00\uc2e4(OHCHR) \ubd80\ud310\ubb34\uad00, 2011\ub144 \uc720\uc5d4 \uc778\uad8c\ucd5c\uace0\ub300\ud45c\uc0ac\ubb34\uc18c \ubd80\ub300\ud45c \ub4f1 \uc720\uc5d4\uc5d0\uc11c \uc904\uace7 \ud65c\ub3d9\ud588\ub2e4. \uc9c0\ub09c\ud574 10\uc6d4 \uc911\uc21c\ubd80\ud130\ub294 \uc548\ud1a0\ub2c8\uc6b0 \uad6c\ud14c\ud750\uc2a4 \ub2f9\uc2dc \ub2f9\uc120\uc778\uc758 \uc720\uc5d4 \uc0ac\ubb34 \uc778\uc218\ud300\uc7a5\uc73c\ub85c \ud65c\ub3d9\ud588\uace0, 12\uc6d4\uc5d0\ub294 \uc815\ucc45\ud2b9\ubcf4\ub85c \uc784\uba85\ub410\ub2e4.',\n",
        "   'ArticleIndex': 10},\n",
        "  {'ArticleType': 'text',\n",
        "   'content': '\uac15 \ub0b4\uc815\uc790\ub294 \uace0\uc2dc \ucd9c\uc2e0\ub3c4 \uc544\ub2c8\uace0 \ub300\uc120 \ucea0\ud504\uc640 \uc778\uc5f0\uc744 \ub9fa\uc740 \u2018\uc815\uce58 \ub099\ud558\uc0b0 \uc778\uc0ac\u2019\ub3c4 \uc544\ub2c8\uc5b4\uc11c \uc678\uad50\ubd80 \ubcd1\ud3d0\uc778 \uc815\uce58\uad8c \uc904\uc11c\uae30\u00b7\uacc4\ud30c\u00b7\uc21c\ud608\uc8fc\uc758 \ub4f1\uc744 \ud0c0\ud30c\ud558\uace0 \uac1c\ud601\ud560 \uc218 \uc788\ub294 \uc778\ubb3c\uc774\ub77c\ub294 \ud3c9\uac00\ub97c \ubc1b\uace0 \uc788\ub2e4.',\n",
        "   'ArticleIndex': 11},\n",
        "  {'ArticleType': 'text',\n",
        "   'content': '\uc2dc\ubbfc\uc0ac\ud68c\ub2e8\uccb4\ub3c4 \ud658\uc601\ud558\uace0 \uc788\ub2e4. \ud55c \uad6d\uac00\uc758 \ud575\uc2ec \uad00\ub8cc\uc9c1\uc5d0 \uc5ec\uc131\uc744 \uc784\uba85\ud55c \uac83\uc774 \uad6d\uac00 \uc131\ud3c9\ub4f1\uc9c0\uc218\ub97c \ud06c\uac8c \ub192\uc77c \uc218 \uc788\ub294 \ub370\ub2e4 \uad6d\uc81c\uc778\uad8c \uc804\ubb38\uac00\uac00 \uc678\uad50\uc218\uc7a5\uc774 \ub41c \uac83 \uc790\uccb4\uac00 \uc138\uacc4 \uc774\ubaa9\uc744 \ubaa8\uc744 \uc218 \uc788\uae30 \ub54c\ubb38\uc774\ub2e4.',\n",
        "   'ArticleIndex': 12},\n",
        "  {'ArticleType': 'text',\n",
        "   'content': '\ud558\uc9c0\ub9cc \uadf8\uac00 \ucd5c\ub300 \ud604\uc548\uc778 \ubd81\ud575 \ubb38\uc81c\uc640 \ubbf8\u00b7\uc911 \ub4f1 \uac15\ub300\uad6d \uc0c1\ub300 \uc5c5\ubb34\ub97c \ub9e1\uc740 \uc801\uc774 \uc5c6\ub2e4\ub294 \uc810\uc5d0\uc11c \uc774\ub840\uc801\uc774\ub2e4. \ud55c\uad6d\uc774 \ud604\uc7ac \uc9c1\uba74\ud55c \uc678\uad50\uc801 \ud604\uc2e4\uc5d0 \ube44\ucdb0 \ub2e4\uc18c \u2018\ud55c\uac00\ud55c\u2019 \uc778\uc0ac\uac00 \uc544\ub2c8\ub0d0\ub294 \uc9c0\uc801\uc774 \ub098\uc624\ub294 \uac83\ub3c4 \uc774 \ub54c\ubb38\uc774\ub2e4. \uccad\uc640\ub300 \uad00\uacc4\uc790\ub294 \u201c\uc678\uad50\uc5d0 \uad00\ud55c \ubd80\ubd84\uc740 \uc7a5\uad00(\ub9cc)\uc774 \ud558\ub294 \uac74 \uc544\ub2c8\ub77c\uace0 \uc0dd\uac01\ud55c\ub2e4\u201d\uba70 \u201c\uc678\uc548\uc2e4\uc7a5\ub3c4 \uacc4\uc2dc\uace0 1\u00b72\ucc28\uc7a5\ub3c4 \uacc4\uc2dc\uace0 \uadf8\ub7f0 \ubd80\ubd84\uc5d0 \ub300\ud574\uc11c\ub294 \ucda9\ubd84\ud788 \ubcf4\uc644\ud558\uace0 \uac08 \uc218 \uc788\uc73c\ub9ac\ub77c\uace0 \uc0dd\uac01\ud55c\ub2e4\u201d\uace0 \ud588\ub2e4.',\n",
        "   'ArticleIndex': 13},\n",
        "  {'ArticleType': 'text',\n",
        "   'content': '\uccad\uc640\ub300\uc758 \uc774 \uac19\uc740 \uc124\uba85\uc740 \ubd81\ud575, \ub300\ubbf8\u00b7\ub300\uc911\uad6d \uc678\uad50 \ub4f1\uc774 \ub2f9\uba74 \ud604\uc548\uc744 \uc678\uad50\ubd80\uc5d0\ub9cc \ub9e1\uae30\uc9c0 \uc54a\uace0 \uccad\uc640\ub300\uac00 \uc9c1\uc811 \ucc59\uae30\uaca0\ub2e4\ub294 \uc758\ubbf8\ub85c \uc77d\ud78c\ub2e4. \uac15 \ub0b4\uc815\uc790\uac00 \uc7a5\uad00\uc73c\ub85c\uc11c \uc678\uad50\ubd80 \ub0b4\ubd80 \uac1c\ud601\uacfc \uc870\uc9c1 \uad00\ub9ac \ub4f1\uc5d0 \ub354 \ub9ce\uc740 \ube44\uc911\uc744 \ub450\uac8c \ub420 \uac83\uc774\ub77c\ub294 \uc804\ub9dd\uc774 \ub098\uc624\ub294 \ubc30\uacbd\uc774\ub2e4. \ub610 \uc774 \uac19\uc740 \uc0c1\ud669\uc5d0\uc11c\ub294 \uc678\uad50\ubd80 \uc7a5\uad00\uc744 \ubcf4\uc88c\ud560 \uc81c1\ucc28\uad00\uc758 \uc5ed\ud560\uacfc \ube44\uc911\uc774 \uc0c1\ub2f9\ud788 \ub192\uc544\uc9c8 \uac83\uc774\ub77c\ub294 \uc608\uc0c1\ub3c4 \uc788\ub2e4.',\n",
        "   'ArticleIndex': 14},\n",
        "  {'ArticleType': 'text',\n",
        "   'content': '\uc7a5\ub140\uc758 \uc704\uc7a5\uc804\uc785, \uc774\uc911\uad6d\uc801 \ubb38\uc81c \ub4f1\uc740 \ud5a5\ud6c4 \uad6d\ud68c \uc778\uc0ac\uccad\ubb38\ud68c \uacfc\uc815\uc5d0\uc11c \ub17c\ub780\uc774 \ub420 \uac83\uc73c\ub85c \ubcf4\uc778\ub2e4. \ubb38 \ub300\ud1b5\ub839\uc774 \ubcd1\uc5ed \uba74\ud0c8\u00b7\ubd80\ub3d9\uc0b0 \ud22c\uae30\u00b7\ud0c8\uc138\u00b7\uc704\uc7a5\uc804\uc785\u00b7\ub17c\ubb38 \ud45c\uc808 \ub4f1 5\ub300 \ube44\ub9ac \uad00\ub828\uc790\ub294 \uace0\uc704\uacf5\uc9c1\uc5d0\uc11c \uc6d0\ucc9c\uc801\uc73c\ub85c \ubc30\uc81c\ud558\uaca0\ub2e4\uace0 \ubc1d\ud600\uc654\uae30 \ub54c\ubb38\uc774\ub2e4. \uccad\uc640\ub300\ub294 \uac15 \ub0b4\uc815\uc790 \ubc1c\ud45c\uc640 \ud568\uaed8 \uc774 \uac19\uc740 \ubb38\uc81c\ub97c \uc120\uc81c\uc801\uc73c\ub85c \uc81c\uae30\ud558\uba74\uc11c \u201c\uc791\uc740 \ubb38\uc81c \ub54c\ubb38\uc5d0 \uc801\uc784\uc790\uac00 \ubc30\uc81c\ub418\ub294 \uac83\ub3c4 \ubc14\ub78c\uc9c1\ud558\uc9c0 \uc54a\ub2e4\u201d\uace0 \ubc1d\ud600 \uc774 \ubb38\uc81c\ub97c \uc815\uba74 \ub3cc\ud30c\ud558\uaca0\ub2e4\ub294 \uc758\uc9c0\ub97c \ub0b4\ube44\ucce4\ub2e4.',\n",
        "   'ArticleIndex': 15},\n",
        "  {'ArticleType': 'text',\n",
        "   'content': '\uac15 \ub0b4\uc815\uc790 \ub0a8\ud3b8 \uc774\uc77c\ubcd1 \uc5f0\uc138\ub300 \uba85\uc608\uad50\uc218\ub294 \uc774\ub0a0 \u201c\uc790\ub140\uc758 \uc704\uc7a5\uc804\uc785 \ub17c\ub780\uc5d0 \uc0ac\uacfc\ub4dc\ub9b0\ub2e4\u201d\uba70 \u201c\ud070\ub538\uc740 \uace7 \ubbf8\uad6d \uad6d\uc801\uc744 \ud3ec\uae30\ud560 \uc608\uc815\u201d\uc774\ub77c\uace0 \ub9d0\ud588\ub2e4\uace0 \ub9e4\uc77c\uacbd\uc81c\uac00 \ubcf4\ub3c4\ud588\ub2e4.',\n",
        "   'ArticleIndex': 16},\n",
        "  {'ArticleType': 'text',\n",
        "   'content': '<\uc720\uc2e0\ubaa8 \uae30\uc790 simon@kyunghyang.com>',\n",
        "   'ArticleIndex': 17},\n",
        "  {'ArticleType': 'text', 'content': '\u25b6 \uacbd\ud5a5\uc2e0\ubb38 SNS', 'ArticleIndex': 18},\n",
        "  {'ArticleType': 'link',\n",
        "   'content': '[\ud2b8\uc704\ud130]',\n",
        "   'url': 'http://twitter.com/kyunghyang',\n",
        "   'ArticleIndex': 19},\n",
        "  {'ArticleType': 'link',\n",
        "   'content': '[\ud398\uc774\uc2a4\ubd81]',\n",
        "   'url': 'http://facebook.com/kyunghyangshinmun',\n",
        "   'ArticleIndex': 20},\n",
        "  {'ArticleType': 'text', 'content': '\u25b6', 'ArticleIndex': 21},\n",
        "  {'ArticleType': 'link',\n",
        "   'content': '[\uc778\uae30 \ubb34\ub8cc\ub9cc\ud654 \ubcf4\uae30]',\n",
        "   'url': 'http://sports.khan.co.kr/comics/',\n",
        "   'ArticleIndex': 22},\n",
        "  {'ArticleType': 'text', 'content': '\u00a9\uacbd\ud5a5\uc2e0\ubb38(', 'ArticleIndex': 23},\n",
        "  {'ArticleType': 'link',\n",
        "   'content': 'www.khan.co.kr',\n",
        "   'url': 'http://www.khan.co.kr/',\n",
        "   'ArticleIndex': 24},\n",
        "  {'ArticleType': 'text', 'content': '), \ubb34\ub2e8\uc804\uc7ac \ubc0f \uc7ac\ubc30\ud3ec \uae08\uc9c0', 'ArticleIndex': 25}],\n",
        " 'ArticleDate': '2017-05-21 22:57',\n",
        " 'Video': 'False',\n",
        " 'Link': 'http://m.news.naver.com/read.nhn?oid=032&aid=0002789653&sid1=100&mode=LSD',\n",
        " 'ArticleTitle': '[\ubb38\uc7ac\uc778 \uc815\ubd80 \uc778\uc0ac]\uc678\uad50\ubd80 \uac1c\ud601 \u2018\ud30c\uaca9 \uc2e4\ud5d8\u2019\u2026\uc21c\ud608\uc8fc\uc758 \ud0c0\ud30c\u00b7\ub0b4\uac01 \uc131\ud3c9\ub4f1 \uc758\ubbf8'}"
       ]
      }
     ],
     "prompt_number": 73
    },
    {
     "cell_type": "code",
     "collapsed": false,
     "input": [],
     "language": "python",
     "metadata": {},
     "outputs": []
    }
   ],
   "metadata": {}
  }
 ]
}